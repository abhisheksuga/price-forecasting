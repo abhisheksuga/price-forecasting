{
 "cells": [
  {
   "cell_type": "code",
   "execution_count": 8,
   "metadata": {},
   "outputs": [],
   "source": [
    "import pandas as pd\n",
    "import talib\n",
    "from talib.abstract import *\n"
   ]
  },
  {
   "cell_type": "code",
   "execution_count": 10,
   "metadata": {},
   "outputs": [
    {
     "name": "stdout",
     "output_type": "stream",
     "text": [
      "Requirement already satisfied: TA-Lib in /opt/homebrew/lib/python3.11/site-packages (0.4.32)\n",
      "Requirement already satisfied: numpy in /opt/homebrew/lib/python3.11/site-packages (from TA-Lib) (1.26.4)\n",
      "\n",
      "\u001b[1m[\u001b[0m\u001b[34;49mnotice\u001b[0m\u001b[1;39;49m]\u001b[0m\u001b[39;49m A new release of pip is available: \u001b[0m\u001b[31;49m24.2\u001b[0m\u001b[39;49m -> \u001b[0m\u001b[32;49m24.3.1\u001b[0m\n",
      "\u001b[1m[\u001b[0m\u001b[34;49mnotice\u001b[0m\u001b[1;39;49m]\u001b[0m\u001b[39;49m To update, run: \u001b[0m\u001b[32;49mpython3.11 -m pip install --upgrade pip\u001b[0m\n",
      "Note: you may need to restart the kernel to use updated packages.\n"
     ]
    }
   ],
   "source": [
    "#installation worked only after installing the dependancy packages using (brew install ta-lib)\n",
    "pip install TA-Lib\n"
   ]
  },
  {
   "cell_type": "code",
   "execution_count": 9,
   "metadata": {},
   "outputs": [],
   "source": [
    "df =  pd.read_csv(\"gold.csv\",header=0, index_col=0, parse_dates=True)"
   ]
  },
  {
   "cell_type": "code",
   "execution_count": 10,
   "metadata": {},
   "outputs": [
    {
     "data": {
      "text/html": [
       "<div>\n",
       "<style scoped>\n",
       "    .dataframe tbody tr th:only-of-type {\n",
       "        vertical-align: middle;\n",
       "    }\n",
       "\n",
       "    .dataframe tbody tr th {\n",
       "        vertical-align: top;\n",
       "    }\n",
       "\n",
       "    .dataframe thead th {\n",
       "        text-align: right;\n",
       "    }\n",
       "</style>\n",
       "<table border=\"1\" class=\"dataframe\">\n",
       "  <thead>\n",
       "    <tr style=\"text-align: right;\">\n",
       "      <th></th>\n",
       "      <th>Open</th>\n",
       "      <th>High</th>\n",
       "      <th>Low</th>\n",
       "      <th>Close</th>\n",
       "      <th>Volume</th>\n",
       "      <th>Currency</th>\n",
       "    </tr>\n",
       "    <tr>\n",
       "      <th>Date</th>\n",
       "      <th></th>\n",
       "      <th></th>\n",
       "      <th></th>\n",
       "      <th></th>\n",
       "      <th></th>\n",
       "      <th></th>\n",
       "    </tr>\n",
       "  </thead>\n",
       "  <tbody>\n",
       "    <tr>\n",
       "      <th>2000-01-04</th>\n",
       "      <td>289.5</td>\n",
       "      <td>289.5</td>\n",
       "      <td>280.0</td>\n",
       "      <td>283.7</td>\n",
       "      <td>21621</td>\n",
       "      <td>USD</td>\n",
       "    </tr>\n",
       "    <tr>\n",
       "      <th>2000-01-05</th>\n",
       "      <td>283.7</td>\n",
       "      <td>285.0</td>\n",
       "      <td>281.0</td>\n",
       "      <td>282.1</td>\n",
       "      <td>25448</td>\n",
       "      <td>USD</td>\n",
       "    </tr>\n",
       "    <tr>\n",
       "      <th>2000-01-06</th>\n",
       "      <td>281.6</td>\n",
       "      <td>282.8</td>\n",
       "      <td>280.2</td>\n",
       "      <td>282.4</td>\n",
       "      <td>19055</td>\n",
       "      <td>USD</td>\n",
       "    </tr>\n",
       "    <tr>\n",
       "      <th>2000-01-07</th>\n",
       "      <td>282.5</td>\n",
       "      <td>284.5</td>\n",
       "      <td>282.0</td>\n",
       "      <td>282.9</td>\n",
       "      <td>11266</td>\n",
       "      <td>USD</td>\n",
       "    </tr>\n",
       "    <tr>\n",
       "      <th>2000-01-10</th>\n",
       "      <td>282.4</td>\n",
       "      <td>283.9</td>\n",
       "      <td>281.8</td>\n",
       "      <td>282.7</td>\n",
       "      <td>30603</td>\n",
       "      <td>USD</td>\n",
       "    </tr>\n",
       "  </tbody>\n",
       "</table>\n",
       "</div>"
      ],
      "text/plain": [
       "             Open   High    Low  Close  Volume Currency\n",
       "Date                                                   \n",
       "2000-01-04  289.5  289.5  280.0  283.7   21621      USD\n",
       "2000-01-05  283.7  285.0  281.0  282.1   25448      USD\n",
       "2000-01-06  281.6  282.8  280.2  282.4   19055      USD\n",
       "2000-01-07  282.5  284.5  282.0  282.9   11266      USD\n",
       "2000-01-10  282.4  283.9  281.8  282.7   30603      USD"
      ]
     },
     "execution_count": 10,
     "metadata": {},
     "output_type": "execute_result"
    }
   ],
   "source": [
    "df.head()"
   ]
  },
  {
   "cell_type": "code",
   "execution_count": 11,
   "metadata": {},
   "outputs": [
    {
     "data": {
      "text/plain": [
       "5703"
      ]
     },
     "execution_count": 11,
     "metadata": {},
     "output_type": "execute_result"
    }
   ],
   "source": [
    "len(df)"
   ]
  },
  {
   "cell_type": "code",
   "execution_count": 12,
   "metadata": {},
   "outputs": [
    {
     "data": {
      "text/plain": [
       "Open        0\n",
       "High        0\n",
       "Low         0\n",
       "Close       0\n",
       "Volume      0\n",
       "Currency    0\n",
       "dtype: int64"
      ]
     },
     "execution_count": 12,
     "metadata": {},
     "output_type": "execute_result"
    }
   ],
   "source": [
    "df.isna().sum()"
   ]
  },
  {
   "cell_type": "code",
   "execution_count": 13,
   "metadata": {},
   "outputs": [],
   "source": [
    "df = df[df.Open !=0]\n",
    "df = df[df.High !=0]\n",
    "df = df[df.Low !=0]\n",
    "df = df[df.Close !=0]"
   ]
  },
  {
   "cell_type": "code",
   "execution_count": 14,
   "metadata": {},
   "outputs": [],
   "source": [
    "def Add_Lag(data,col,lag_list):\n",
    "    \n",
    "    position = data.columns.tolist().index(col)\n",
    "    \n",
    "    for lag in lag_list:\n",
    "    \n",
    "        col_val = data[col].shift(lag)\n",
    "\n",
    "        col_name = col+'_lag:'+'{length}'.format(length=lag)\n",
    "\n",
    "        data.insert(loc=position, column=col_name, value=col_val)\n",
    "        \n",
    "\n",
    "    return data"
   ]
  },
  {
   "cell_type": "code",
   "execution_count": 11,
   "metadata": {},
   "outputs": [],
   "source": [
    "def Indicator(Data):\n",
    "\n",
    "    data = pd.DataFrame()\n",
    "    data['Open'] = Data['Open']\n",
    "    data['High'] = Data['High']\n",
    "    data['Low'] = Data['Low']\n",
    "    data['Close'] = Data['Close']\n",
    "    data['Volume'] = Data['Volume']\n",
    "\n",
    "\n",
    "    Orginal_columns_names = ['Open', 'High', 'Low', 'Close', 'Volume']\n",
    "    \n",
    "    #we apply indicators on one lage data\n",
    "    Open = data['Open'].shift(1)\n",
    "    High = data['High'].shift(1)\n",
    "    Low = data['Low'].shift(1)\n",
    "    Close = data['Close'].shift(1)\n",
    "    Volume = data['Volume'].shift(1)\n",
    "\n",
    "    Orginal_columns_values = {'open':Open,'high':High,'low':Low,'close':Close,'volume':Volume}\n",
    "    #Gathering all functions in the Talib library\n",
    "    Talib = talib.get_function_groups()\n",
    "    Groups = list(Talib.keys())\n",
    "    Indicators = []\n",
    "    for group in Groups:\n",
    "        for g in Talib[group]:\n",
    "            Indicators.append(g)\n",
    "    #As the following two functions are not returning an array with length of our data.shapep[0], we remove it\n",
    "    Indicators.remove('MAVP')\n",
    "    Indicators.remove('OBV')\n",
    "\n",
    "    for indicator in Indicators:\n",
    "        indicator = eval(indicator)\n",
    "        \n",
    "        #Here we have two types of functions(indicators,...):\n",
    "        #The ones need just one column and the others which need more\n",
    "        if len(indicator.output_names)==1:\n",
    "\n",
    "            if list(indicator.get_input_names().values()) == ['close']:\n",
    "\n",
    "                for col in Orginal_columns_names:\n",
    "\n",
    "                    lagged_col = data[col].shift(1)\n",
    "\n",
    "                    new_col = indicator(lagged_col)\n",
    "\n",
    "                    name = indicator.info['name']\n",
    "\n",
    "                    col_name = col+'_'+'{Name}'.format(Name=name)\n",
    "\n",
    "                    data[col_name] = new_col\n",
    "\n",
    "            \n",
    "            else: #Functions need more than one features, e.g. [High, Low, Close, Open]\n",
    "\n",
    "                name = indicator.info['name']\n",
    "\n",
    "                inputs = list(indicator.get_input_names().values())\n",
    "\n",
    "                if len(inputs)==2:\n",
    "\n",
    "                    new_col = indicator(Orginal_columns_values[inputs[0]],Orginal_columns_values[inputs[1]])\n",
    "\n",
    "                    data[name] = new_col\n",
    "                    \n",
    "                elif len(inputs)==3:\n",
    "\n",
    "                    new_col = indicator(Orginal_columns_values[inputs[0]],Orginal_columns_values[inputs[1]],Orginal_columns_values[inputs[2]])\n",
    "                    \n",
    "                    data[name] = new_col\n",
    "\n",
    "                elif len(inputs)==4:\n",
    "                    \n",
    "                    new_col = indicator(Orginal_columns_values[inputs[0]],Orginal_columns_values[inputs[1]],Orginal_columns_values[inputs[2]],Orginal_columns_values[inputs[3]])\n",
    "                    \n",
    "                    data[name] = new_col\n",
    "    \n",
    "    remove_col = []\n",
    "    for col in data.columns:\n",
    "        if float('-inf') in data[col].values: #Remove columns that have very large values\n",
    "            remove_col.append(col)\n",
    "        if data.tail(data.shape[0]-100)[col].isnull().values.any()==True: #remove columns that have nan values which are not cause of lags\n",
    "            remove_col.append(col)\n",
    "            \n",
    "    remove_col = remove_col+Orginal_columns_names\n",
    "    data.drop(remove_col,axis=1,inplace=True)\n",
    "\n",
    "    return data\n",
    "\n"
   ]
  },
  {
   "cell_type": "code",
   "execution_count": null,
   "metadata": {},
   "outputs": [],
   "source": []
  }
 ],
 "metadata": {
  "kernelspec": {
   "display_name": "Python 3",
   "language": "python",
   "name": "python3"
  },
  "language_info": {
   "codemirror_mode": {
    "name": "ipython",
    "version": 3
   },
   "file_extension": ".py",
   "mimetype": "text/x-python",
   "name": "python",
   "nbconvert_exporter": "python",
   "pygments_lexer": "ipython3",
   "version": "3.11.10"
  }
 },
 "nbformat": 4,
 "nbformat_minor": 2
}
